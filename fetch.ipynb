{
 "cells": [
  {
   "cell_type": "code",
   "execution_count": 5,
   "id": "ec9c4e9e",
   "metadata": {},
   "outputs": [],
   "source": [
    "import requests\n",
    "from bs4 import BeautifulSoup\n",
    "url = \"https://www.nkust.edu.tw/p/403-1000-1363-1.php?Lang=zh-tw\"\n",
    "sel = \"#pageptlist > div > div > div > div.d-txt > div.mtitle > a\"\n",
    "\n",
    "html = requests.get(url).text"
   ]
  },
  {
   "cell_type": "code",
   "execution_count": 8,
   "id": "5d7ce91a",
   "metadata": {},
   "outputs": [
    {
     "name": "stdout",
     "output_type": "stream",
     "text": [
      "高科大營建系義築團隊 重現原民傳統芋頭窯文化\n",
      "高科大主辦智慧機器人大賽十年有成  今年國際賽成績亮眼\n",
      "金屬材料暨加工設備展  高科大發表創新模具技術\n",
      "挺高雄青創 高科大辦市集「遛遛chill」嗨翻駁二特區\n",
      "高科大研發魚鱗珍珠奶茶大獲好評 農漁產品加值兼顧創新與永續\n",
      "高科大預見未來人才 高教深耕論壇邀產官學、氣候少女對話\n",
      "「鹽埕世界盃奶茶節」10月1日開跑  高科大串聯鹽埕商家邁大步\n",
      "玉荷包酸啤酒勇奪WBA世界最佳啤酒大獎  高科大與自由人釀造同賀\n",
      "全國首創師資生結合水域安全課程  「未來老師們」直呼太受用\n",
      "高科大攜手美商達爾科技簽署MOU 強化產學合作培育半導體人才\n",
      "高科大澎湖縣府守護海洋 清除海底覆網4年累積10萬公斤廢具\n",
      "高科大清除海底覆網成果發表會  9/20澎湖馬公機場盛大登場\n"
     ]
    }
   ],
   "source": [
    "soup = BeautifulSoup(html, \"lxml\")\n",
    "target = soup.select(sel)\n",
    "fp = open(\"c111196102-news.txt\", \"w\", encoding=\"utf-8\")\n",
    "for t in target:\n",
    "    print(t.text.strip())\n",
    "    fp.write(t.text.strip()+\"\\n\")\n",
    "fp.close()"
   ]
  },
  {
   "cell_type": "code",
   "execution_count": 10,
   "id": "6b193701",
   "metadata": {},
   "outputs": [
    {
     "name": "stdout",
     "output_type": "stream",
     "text": [
      "['https://www.nkust.edu.tw/p/403-1000-1363-1.php?Lang=zh-tw', 'https://www.nkust.edu.tw/p/403-1000-1363-2.php?Lang=zh-tw', 'https://www.nkust.edu.tw/p/403-1000-1363-3.php?Lang=zh-tw', 'https://www.nkust.edu.tw/p/403-1000-1363-4.php?Lang=zh-tw', 'https://www.nkust.edu.tw/p/403-1000-1363-5.php?Lang=zh-tw', 'https://www.nkust.edu.tw/p/403-1000-1363-6.php?Lang=zh-tw', 'https://www.nkust.edu.tw/p/403-1000-1363-7.php?Lang=zh-tw', 'https://www.nkust.edu.tw/p/403-1000-1363-8.php?Lang=zh-tw', 'https://www.nkust.edu.tw/p/403-1000-1363-9.php?Lang=zh-tw', 'https://www.nkust.edu.tw/p/403-1000-1363-10.php?Lang=zh-tw', 'https://www.nkust.edu.tw/p/403-1000-1363-11.php?Lang=zh-tw', 'https://www.nkust.edu.tw/p/403-1000-1363-12.php?Lang=zh-tw', 'https://www.nkust.edu.tw/p/403-1000-1363-13.php?Lang=zh-tw', 'https://www.nkust.edu.tw/p/403-1000-1363-14.php?Lang=zh-tw', 'https://www.nkust.edu.tw/p/403-1000-1363-15.php?Lang=zh-tw', 'https://www.nkust.edu.tw/p/403-1000-1363-16.php?Lang=zh-tw', 'https://www.nkust.edu.tw/p/403-1000-1363-17.php?Lang=zh-tw', 'https://www.nkust.edu.tw/p/403-1000-1363-18.php?Lang=zh-tw', 'https://www.nkust.edu.tw/p/403-1000-1363-19.php?Lang=zh-tw', 'https://www.nkust.edu.tw/p/403-1000-1363-20.php?Lang=zh-tw', 'https://www.nkust.edu.tw/p/403-1000-1363-21.php?Lang=zh-tw', 'https://www.nkust.edu.tw/p/403-1000-1363-22.php?Lang=zh-tw', 'https://www.nkust.edu.tw/p/403-1000-1363-23.php?Lang=zh-tw', 'https://www.nkust.edu.tw/p/403-1000-1363-24.php?Lang=zh-tw', 'https://www.nkust.edu.tw/p/403-1000-1363-25.php?Lang=zh-tw', 'https://www.nkust.edu.tw/p/403-1000-1363-26.php?Lang=zh-tw', 'https://www.nkust.edu.tw/p/403-1000-1363-27.php?Lang=zh-tw', 'https://www.nkust.edu.tw/p/403-1000-1363-28.php?Lang=zh-tw', 'https://www.nkust.edu.tw/p/403-1000-1363-29.php?Lang=zh-tw', 'https://www.nkust.edu.tw/p/403-1000-1363-30.php?Lang=zh-tw', 'https://www.nkust.edu.tw/p/403-1000-1363-31.php?Lang=zh-tw', 'https://www.nkust.edu.tw/p/403-1000-1363-32.php?Lang=zh-tw', 'https://www.nkust.edu.tw/p/403-1000-1363-33.php?Lang=zh-tw', 'https://www.nkust.edu.tw/p/403-1000-1363-34.php?Lang=zh-tw', 'https://www.nkust.edu.tw/p/403-1000-1363-35.php?Lang=zh-tw', 'https://www.nkust.edu.tw/p/403-1000-1363-36.php?Lang=zh-tw', 'https://www.nkust.edu.tw/p/403-1000-1363-37.php?Lang=zh-tw', 'https://www.nkust.edu.tw/p/403-1000-1363-38.php?Lang=zh-tw', 'https://www.nkust.edu.tw/p/403-1000-1363-39.php?Lang=zh-tw', 'https://www.nkust.edu.tw/p/403-1000-1363-40.php?Lang=zh-tw', 'https://www.nkust.edu.tw/p/403-1000-1363-41.php?Lang=zh-tw', 'https://www.nkust.edu.tw/p/403-1000-1363-42.php?Lang=zh-tw', 'https://www.nkust.edu.tw/p/403-1000-1363-43.php?Lang=zh-tw', 'https://www.nkust.edu.tw/p/403-1000-1363-44.php?Lang=zh-tw', 'https://www.nkust.edu.tw/p/403-1000-1363-45.php?Lang=zh-tw', 'https://www.nkust.edu.tw/p/403-1000-1363-46.php?Lang=zh-tw', 'https://www.nkust.edu.tw/p/403-1000-1363-47.php?Lang=zh-tw', 'https://www.nkust.edu.tw/p/403-1000-1363-48.php?Lang=zh-tw', 'https://www.nkust.edu.tw/p/403-1000-1363-49.php?Lang=zh-tw', 'https://www.nkust.edu.tw/p/403-1000-1363-50.php?Lang=zh-tw', 'https://www.nkust.edu.tw/p/403-1000-1363-51.php?Lang=zh-tw']\n"
     ]
    }
   ],
   "source": [
    "urls = \"https://www.nkust.edu.tw/p/403-1000-1363-{}.php?Lang=zh-tw\"\n",
    "target_urls = list()\n",
    "for page in range(1, 52):\n",
    "    url = urls.format(page)\n",
    "    target_urls.append(url)\n",
    "for url in target_urls:\n",
    "    # use the above codes to fetch each page.\n",
    "    # store the fetched data into the target file."
   ]
  }
 ],
 "metadata": {
  "kernelspec": {
   "display_name": "Python 3 (ipykernel)",
   "language": "python",
   "name": "python3"
  },
  "language_info": {
   "codemirror_mode": {
    "name": "ipython",
    "version": 3
   },
   "file_extension": ".py",
   "mimetype": "text/x-python",
   "name": "python",
   "nbconvert_exporter": "python",
   "pygments_lexer": "ipython3",
   "version": "3.9.13"
  }
 },
 "nbformat": 4,
 "nbformat_minor": 5
}
