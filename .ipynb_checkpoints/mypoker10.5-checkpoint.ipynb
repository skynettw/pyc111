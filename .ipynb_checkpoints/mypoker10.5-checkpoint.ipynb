{
 "cells": [
  {
   "cell_type": "code",
   "execution_count": 4,
   "id": "6c9f0fbe",
   "metadata": {},
   "outputs": [],
   "source": [
    "import random\n",
    "\n",
    "card_faces = [\"方塊\"]*13+[\"梅花\"]*13+[\"紅心\"]*13+[\"黑桃\"]*13\n",
    "card_values = [i for i in range(1, 14)] * 4"
   ]
  },
  {
   "cell_type": "code",
   "execution_count": 29,
   "id": "f62ddf44",
   "metadata": {},
   "outputs": [],
   "source": []
  },
  {
   "cell_type": "code",
   "execution_count": 45,
   "id": "265d6c78",
   "metadata": {},
   "outputs": [],
   "source": []
  },
  {
   "cell_type": "code",
   "execution_count": 53,
   "id": "c16d38d4",
   "metadata": {},
   "outputs": [
    {
     "name": "stdout",
     "output_type": "stream",
     "text": [
      "[('紅心', 4)]\n",
      "Your points is  4\n",
      "請問要補牌嗎？y\n",
      "[('紅心', 4), ('紅心', 1)]\n",
      "Your points is  5\n",
      "請問要補牌嗎？y\n",
      "[('紅心', 4), ('紅心', 1), ('紅心', 11)]\n",
      "Your points is  5.5\n",
      "請問要補牌嗎？y\n",
      "[('紅心', 4), ('紅心', 1), ('紅心', 11), ('紅心', 8)]\n",
      "你爆了！\n",
      "game over!\n",
      "你爆了！\n"
     ]
    },
    {
     "data": {
      "text/plain": [
       "13.5"
      ]
     },
     "execution_count": 53,
     "metadata": {},
     "output_type": "execute_result"
    }
   ],
   "source": [
    "import random\n",
    "\n",
    "card_faces = [\"方塊\"]*13+[\"梅花\"]*13+[\"紅心\"]*13+[\"黑桃\"]*13\n",
    "card_values = [i for i in range(1, 14)] * 4\n",
    "deck  = [card for card in zip(card_faces, card_values)]\n",
    "\n",
    "def score():\n",
    "    points = 0\n",
    "    for card in player_cards:\n",
    "        if card[1]>10:\n",
    "            points = points + 0.5\n",
    "        else:\n",
    "            points = points + card[1]\n",
    "    if points>10.5:\n",
    "        print(\"你爆了！\")\n",
    "    else:\n",
    "        print(\"Your points is \", points)\n",
    "    return points\n",
    "\n",
    "random.shuffle(deck)\n",
    "player_cards = list()\n",
    "player_cards.append(deck.pop())\n",
    "print(player_cards)\n",
    "score()\n",
    "answer = input(\"請問要補牌嗎？\")\n",
    "while answer!=\"n\" and answer!=\"N\":\n",
    "    player_cards.append(deck.pop())\n",
    "    print(player_cards)\n",
    "    if score()>10.5:\n",
    "        break\n",
    "    answer = input(\"請問要補牌嗎？\")\n",
    "print(\"game over!\")\n",
    "score()"
   ]
  },
  {
   "cell_type": "code",
   "execution_count": null,
   "id": "c91f2f88",
   "metadata": {},
   "outputs": [],
   "source": []
  }
 ],
 "metadata": {
  "kernelspec": {
   "display_name": "Python 3",
   "language": "python",
   "name": "python3"
  },
  "language_info": {
   "codemirror_mode": {
    "name": "ipython",
    "version": 3
   },
   "file_extension": ".py",
   "mimetype": "text/x-python",
   "name": "python",
   "nbconvert_exporter": "python",
   "pygments_lexer": "ipython3",
   "version": "3.8.8"
  }
 },
 "nbformat": 4,
 "nbformat_minor": 5
}
